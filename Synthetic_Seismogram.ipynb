{
 "cells": [
  {
   "cell_type": "markdown",
   "metadata": {},
   "source": [
    "## Generating Synthetic Seismogram in Python\n",
    "\n",
    "Authors: Hyunmin Kim, Honggeun Jo | Modified from [Ryan A. Mardani](https://www.linkedin.com/in/amardani/)"
   ]
  },
  {
   "cell_type": "code",
   "execution_count": 1,
   "metadata": {},
   "outputs": [],
   "source": [
    "import numpy as np\n",
    "import pyvista as pv\n",
    "# !pip install pyvista\n",
    "# !pip install trame\n",
    "# !pip install --upgrade trame-vuetify\n",
    "# !pip install --upgrade trame-vtk\n",
    "# !pip install ipywidgets"
   ]
  },
  {
   "cell_type": "code",
   "execution_count": 2,
   "metadata": {},
   "outputs": [],
   "source": [
    "# step 0 - top depth and v_above given + other inputs\n",
    "NX, NY, NZ = 64, 64, 32\n",
    "tops = np.ones((NY, NX)) * 1500 # <- random input, meter flat horizon \n",
    "v_above = 1520                  # <- random input, m/s \n",
    "DZ = np.ones((32, 64, 64))      \n",
    "\n",
    "# time domain variables\n",
    "dt = 0.001   #sampleing interval\n",
    "t_max = 3.0   # max time to create time vector\n",
    "t = np.arange(0, t_max, dt)\n",
    "\n",
    "# define Ricker wavelet\n",
    "def ricker(f, length, dt):\n",
    "    t0 = np.arange(-length/2, (length-dt)/2, dt)\n",
    "    y = (1.0 - 2.0*(np.pi**2)*(f**2)*(t0**2)) * np.exp(-(np.pi**2)*(f**2)*(t0**2))\n",
    "    return t0, y\n",
    "f=20            # wavelet frequency\n",
    "length=0.512    # wavelet vector length\n",
    "dt=dt           # sampling prefer to use smiliar to resampled AI\n",
    "t0, w = ricker(f, length, dt) # ricker wavelet "
   ]
  },
  {
   "cell_type": "code",
   "execution_count": 3,
   "metadata": {},
   "outputs": [],
   "source": [
    "# step 1 - import Vp and Rho_b, which will be imported from CMG runs\n",
    "# saturation (composition), pressure, porosity (static/updated)\n",
    "# TODO: convert S, P, Poro to Vp and Rho_b\n",
    "\n",
    "Vp = np.random.uniform(1500, 2500, size = (32, 64, 64))\n",
    "Rho_b = np.random.uniform(800, 1500, size = (32, 64, 64))\n",
    "\n",
    "assert Rho_b.min() > 0 and Vp.min() > 0, \"unrealistic input\""
   ]
  },
  {
   "cell_type": "code",
   "execution_count": 4,
   "metadata": {},
   "outputs": [],
   "source": [
    "# step 2 - compute AI and TWT\n",
    "AI = Vp * Rho_b\n",
    "TWT = -np.ones_like(AI)\n",
    "for i in range(NX):\n",
    "    for j in range(NY):\n",
    "        for k in range(NZ):\n",
    "            twt = 0\n",
    "            for s in range(k+1):\n",
    "                twt += 2*DZ[s, j, i]/Vp[s, j, i]\n",
    "            TWT[k, j, i] = 2*(tops[j,i]/v_above) + twt\n",
    "\n",
    "assert TWT.min() > 0, 'negative TWT is detected'"
   ]
  },
  {
   "cell_type": "code",
   "execution_count": 6,
   "metadata": {},
   "outputs": [],
   "source": [
    "# step 3 - resample AI in time domain\n",
    "AI_tdom = -np.ones((t.shape[0], NY, NX))\n",
    "for i in range(NX):\n",
    "    for j in range(NY):\n",
    "       AI_tdom[:, j, i] = np.interp(x=t, xp=TWT[:,j,i], fp = AI[:,j,i])\n",
    "\n",
    "assert AI_tdom.min() > 0, 'negative AI is detected'"
   ]
  },
  {
   "cell_type": "code",
   "execution_count": 7,
   "metadata": {},
   "outputs": [],
   "source": [
    "# step 4 - compute reflectivity in time domain\n",
    "Rc_tdom = -np.ones_like(AI_tdom)\n",
    "Rc_tdom[:-1] = (AI_tdom[1:]-AI_tdom[:-1])/(AI_tdom[1:]+AI_tdom[:-1]) \n",
    "Rc_tdom[-1] = Rc_tdom[-2]\n"
   ]
  },
  {
   "cell_type": "code",
   "execution_count": 10,
   "metadata": {},
   "outputs": [],
   "source": [
    "# step 5 - convolve with the AI in time domain\n",
    "seismic_tdom = -100*np.ones_like(AI_tdom)\n",
    "for i in range(NX):\n",
    "    for j in range(NY):\n",
    "        seismic_tdom[:, j, i] = np.convolve(w, Rc_tdom[:, j, i], mode='same')\n",
    "\n",
    "assert seismic_tdom.min() > -5 and seismic_tdom.max() < 5 , 'erroneous seismic is detected, seismic should be oscillated around zero'"
   ]
  },
  {
   "cell_type": "code",
   "execution_count": 12,
   "metadata": {},
   "outputs": [],
   "source": [
    "# step 6 - resample seismic in depth domain\n",
    "seismic = -np.ones_like(AI)\n",
    "for i in range(NX):\n",
    "    for j in range(NY):\n",
    "        seismic[:, j, i] = np.interp(x=TWT[:, j, i], xp = t, fp = seismic_tdom[:, j, i])"
   ]
  },
  {
   "cell_type": "code",
   "execution_count": 13,
   "metadata": {},
   "outputs": [
    {
     "data": {
      "application/vnd.jupyter.widget-view+json": {
       "model_id": "93a5bccb0ccf4bdbb68ae46b066c7379",
       "version_major": 2,
       "version_minor": 0
      },
      "text/plain": [
       "Widget(value=\"<iframe src='http://localhost:62416/index.html?ui=P_0x127b1119b50_0&reconnect=auto' style='width…"
      ]
     },
     "metadata": {},
     "output_type": "display_data"
    }
   ],
   "source": [
    "# visualization \n",
    "grid = pv.ImageData()\n",
    "grid.dimensions = np.array(seismic.T.shape) + 1\n",
    "grid.origin = (1, 1, 1)  # The bottom left corner of the data set\n",
    "grid.spacing = (1, 1, 1)  # These are the cell sizes along each axis\n",
    "grid.cell_data[\"values\"] = seismic.T.flatten(order=\"F\")  # Flatten the array\n",
    "\n",
    "grid.plot(show_edges=True, cmap = 'seismic')"
   ]
  },
  {
   "cell_type": "code",
   "execution_count": 22,
   "metadata": {},
   "outputs": [],
   "source": [
    "seismic_tdom_cut = seismic_tdom[seismic_tdom.max(axis = 1).max(axis = 1) > 0.1]"
   ]
  },
  {
   "cell_type": "code",
   "execution_count": 25,
   "metadata": {},
   "outputs": [
    {
     "data": {
      "text/plain": [
       "1.1875"
      ]
     },
     "execution_count": 25,
     "metadata": {},
     "output_type": "execute_result"
    }
   ],
   "source": [
    "seismic_tdom_cut.shape[0]/seismic_tdom_cut.shape[1]"
   ]
  },
  {
   "cell_type": "code",
   "execution_count": 26,
   "metadata": {},
   "outputs": [
    {
     "data": {
      "application/vnd.jupyter.widget-view+json": {
       "model_id": "842bdfe2a46240fe8977062c9477d7d1",
       "version_major": 2,
       "version_minor": 0
      },
      "text/plain": [
       "Widget(value=\"<iframe src='http://localhost:62416/index.html?ui=P_0x127b3f03f10_5&reconnect=auto' style='width…"
      ]
     },
     "metadata": {},
     "output_type": "display_data"
    }
   ],
   "source": [
    "# visualization \n",
    "grid = pv.ImageData()\n",
    "grid.dimensions = np.array(seismic_tdom_cut.T.shape) + 1\n",
    "grid.origin = (1, 1, 1)  # The bottom left corner of the data set\n",
    "grid.spacing = (1, 1, 1/(seismic_tdom_cut.shape[0]/seismic_tdom_cut.shape[1])/2)  # These are the cell sizes along each axis\n",
    "grid.cell_data[\"values\"] = seismic_tdom_cut.T.flatten(order=\"F\")  # Flatten the array\n",
    "\n",
    "grid.plot(show_edges=False, cmap = 'seismic')"
   ]
  },
  {
   "cell_type": "code",
   "execution_count": 10,
   "metadata": {},
   "outputs": [],
   "source": [
    "## TODO: Refer to https://docs.pyvista.org/version/stable/examples/00-load/terrain-mesh#sphx-glr-examples-00-load-terrain-mesh-py"
   ]
  },
  {
   "cell_type": "markdown",
   "metadata": {},
   "source": [
    "### Refrences:<br>\n",
    "[Agile geoscience and SEG WiKI](https://wiki.seg.org/wiki/Well_tie_calculus)"
   ]
  }
 ],
 "metadata": {
  "kernelspec": {
   "display_name": "Python 3",
   "language": "python",
   "name": "python3"
  },
  "language_info": {
   "codemirror_mode": {
    "name": "ipython",
    "version": 3
   },
   "file_extension": ".py",
   "mimetype": "text/x-python",
   "name": "python",
   "nbconvert_exporter": "python",
   "pygments_lexer": "ipython3",
   "version": "3.11.2"
  }
 },
 "nbformat": 4,
 "nbformat_minor": 4
}
