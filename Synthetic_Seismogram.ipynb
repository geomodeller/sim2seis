{
 "cells": [
  {
   "cell_type": "markdown",
   "metadata": {},
   "source": [
    "## Generating Synthetic Seismogram in Python\n",
    "\n",
    "Authors: Hyunmin Kim, Honggeun Jo | Modified from [Ryan A. Mardani](https://www.linkedin.com/in/amardani/)"
   ]
  },
  {
   "cell_type": "code",
   "execution_count": 2,
   "metadata": {},
   "outputs": [],
   "source": [
    "## In case you haven't installed the followings:\n",
    "# !pip install pyvista\n",
    "# !pip install trame\n",
    "# !pip install --upgrade trame-vuetify\n",
    "# !pip install --upgrade trame-vtk\n",
    "# !pip install ipywidgets"
   ]
  },
  {
   "cell_type": "code",
   "execution_count": 19,
   "metadata": {},
   "outputs": [],
   "source": [
    "import numpy as np\n",
    "import pyvista as pv\n",
    "import matplotlib.pyplot as plt\n",
    "from tqdm import tqdm"
   ]
  },
  {
   "cell_type": "code",
   "execution_count": 29,
   "metadata": {},
   "outputs": [
    {
     "data": {
      "text/plain": [
       "[<matplotlib.lines.Line2D at 0x1eabb94b350>]"
      ]
     },
     "execution_count": 29,
     "metadata": {},
     "output_type": "execute_result"
    },
    {
     "data": {
      "image/png": "[encoded data removed]",
      "text/plain": [
       "<Figure size 640x480 with 1 Axes>"
      ]
     },
     "metadata": {},
     "output_type": "display_data"
    }
   ],
   "source": [
    "# step 0 - top depth and v_above given + other inputs\n",
    "NX, NY, NZ = 128, 128, 100\n",
    "tops = np.ones((NY, NX)) * 1500 # <- random input, meter flat horizon \n",
    "v_above = 1500                  # <- random input, m/s \n",
    "DZ = np.ones((NZ, NY, NX))/2      \n",
    "\n",
    "# time domain variables\n",
    "dt = 0.001   #sampleing interval\n",
    "t_max = 3.0   # max time to create time vector\n",
    "t = np.arange(0, t_max, dt)\n",
    "\n",
    "# define Ricker wavelet\n",
    "def ricker(f, length, dt):\n",
    "    t0 = np.arange(-length/2, (length-dt)/2, dt)\n",
    "    y = (1.0 - 2.0*(np.pi**2)*(f**2)*(t0**2)) * np.exp(-(np.pi**2)*(f**2)*(t0**2))\n",
    "    return t0, y\n",
    "f=30            # wavelet frequency\n",
    "length=0.512    # wavelet vector length\n",
    "dt=dt           # sampling prefer to use smiliar to resampled AI\n",
    "t0, w = ricker(f, length, dt) # ricker wavelet \n",
    "\n",
    "plt.plot(t0, w)"
   ]
  },
  {
   "cell_type": "code",
   "execution_count": 30,
   "metadata": {},
   "outputs": [],
   "source": [
    "# step 1 - import Vp and Rho_b, which will be imported from CMG runs\n",
    "# saturation (composition), pressure, porosity (static/updated)\n",
    "# TODO: convert S, P, Poro to Vp and Rho_b\n",
    "\n",
    "Vp = np.random.uniform(1500, 2500, size = (NZ, NY, NX))\n",
    "Rho_b = np.random.uniform(800, 1500, size = (NZ, NY, NX))\n",
    "\n",
    "assert Rho_b.min() > 0 and Vp.min() > 0, \"unrealistic input\""
   ]
  },
  {
   "cell_type": "code",
   "execution_count": 31,
   "metadata": {},
   "outputs": [
    {
     "name": "stderr",
     "output_type": "stream",
     "text": [
      "100%|██████████| 128/128 [00:09<00:00, 13.09it/s]\n"
     ]
    }
   ],
   "source": [
    "# step 2 - compute AI and TWT\n",
    "AI = Vp * Rho_b\n",
    "TWT = -np.ones_like(AI)\n",
    "for i in tqdm(range(NX)):\n",
    "    for j in range(NY):\n",
    "        for k in range(NZ):\n",
    "            TWT[k, j, i] = 2*((tops[j,i]/v_above) + (DZ[:k+1, j, i]/Vp[:k+1, j, i]).sum())\n",
    "\n",
    "assert TWT.min() > 0, 'negative TWT is detected'"
   ]
  },
  {
   "cell_type": "code",
   "execution_count": 32,
   "metadata": {},
   "outputs": [],
   "source": [
    "# step 3 - resample AI in time domain\n",
    "AI_tdom = -np.ones((t.shape[0], NY, NX))\n",
    "for i in range(NX):\n",
    "    for j in range(NY):\n",
    "       AI_tdom[:, j, i] = np.interp(x=t, xp=TWT[:,j,i], fp = AI[:,j,i])\n",
    "\n",
    "assert AI_tdom.min() > 0, 'negative AI is detected'"
   ]
  },
  {
   "cell_type": "code",
   "execution_count": 33,
   "metadata": {},
   "outputs": [],
   "source": [
    "# step 4 - compute reflectivity in time domain\n",
    "Rc_tdom = -np.ones_like(AI_tdom)\n",
    "Rc_tdom[:-1] = (AI_tdom[1:]-AI_tdom[:-1])/(AI_tdom[1:]+AI_tdom[:-1]) \n",
    "Rc_tdom[-1] = Rc_tdom[-2]\n"
   ]
  },
  {
   "cell_type": "code",
   "execution_count": 34,
   "metadata": {},
   "outputs": [],
   "source": [
    "# step 5 - convolve with the AI in time domain\n",
    "seismic_tdom = -100*np.ones_like(AI_tdom)\n",
    "for i in range(NX):\n",
    "    for j in range(NY):\n",
    "        seismic_tdom[:, j, i] = np.convolve(w, Rc_tdom[:, j, i], mode='same')\n",
    "\n",
    "assert seismic_tdom.min() > -5 and seismic_tdom.max() < 5 , 'erroneous seismic is detected, seismic should be oscillated around zero'"
   ]
  },
  {
   "cell_type": "code",
   "execution_count": 35,
   "metadata": {},
   "outputs": [
    {
     "data": {
      "application/vnd.jupyter.widget-view+json": {
       "model_id": "a3d63caded384ed38de777724f753893",
       "version_major": 2,
       "version_minor": 0
      },
      "text/plain": [
       "Widget(value=\"<iframe src='http://localhost:60168/index.html?ui=P_0x1eabb9ba990_7&reconnect=auto' style='width…"
      ]
     },
     "metadata": {},
     "output_type": "display_data"
    }
   ],
   "source": [
    "# visualization \n",
    "seismic_tdom_cut = seismic_tdom[(t>TWT.min())&(t<TWT.max())]\n",
    "\n",
    "grid = pv.ImageData()\n",
    "grid.dimensions = np.array(seismic_tdom_cut[::-1].T.shape) + 1\n",
    "grid.origin = (1, 1, 1)  # The bottom left corner of the data set\n",
    "grid.spacing = (1, 1, 1)  # These are the cell sizes along each axis\n",
    "grid.cell_data[\"values\"] = seismic_tdom_cut[::-1].T.flatten(order=\"F\")  # Flatten the array\n",
    "\n",
    "grid.plot(show_edges=False, cmap = 'seismic')"
   ]
  },
  {
   "cell_type": "code",
   "execution_count": 36,
   "metadata": {},
   "outputs": [],
   "source": [
    "# step 6 - resample seismic in depth domain\n",
    "seismic = -np.ones_like(AI)\n",
    "for i in range(NX):\n",
    "    for j in range(NY):\n",
    "        seismic[:, j, i] = np.interp(x=TWT[:, j, i], xp = t, fp = seismic_tdom[:, j, i])"
   ]
  },
  {
   "cell_type": "code",
   "execution_count": null,
   "metadata": {},
   "outputs": [
    {
     "data": {
      "application/vnd.jupyter.widget-view+json": {
       "model_id": "cabb8f0e22b546cd8189ef6fc97b0084",
       "version_major": 2,
       "version_minor": 0
      },
      "text/plain": [
       "Widget(value=\"<iframe src='http://localhost:60168/index.html?ui=P_0x1eaa0730b10_8&reconnect=auto' style='width…"
      ]
     },
     "metadata": {},
     "output_type": "display_data"
    },
    {
     "name": "stderr",
     "output_type": "stream",
     "text": [
      "Exception raised\n",
      "ConnectionResetError('Cannot write to closing transport')\n",
      "Traceback (most recent call last):\n",
      "  File \"c:\\Users\\DELL\\AppData\\Local\\Programs\\Python\\Python311\\Lib\\site-packages\\wslink\\protocol.py\", line 340, in onMessage\n",
      "    await self.sendWrappedMessage(\n",
      "  File \"c:\\Users\\DELL\\AppData\\Local\\Programs\\Python\\Python311\\Lib\\site-packages\\wslink\\protocol.py\", line 484, in sendWrappedMessage\n",
      "    await ws.send_str(encMsg)\n",
      "  File \"c:\\Users\\DELL\\AppData\\Local\\Programs\\Python\\Python311\\Lib\\site-packages\\aiohttp\\web_ws.py\", line 336, in send_str\n",
      "    await self._writer.send(data, binary=False, compress=compress)\n",
      "  File \"c:\\Users\\DELL\\AppData\\Local\\Programs\\Python\\Python311\\Lib\\site-packages\\aiohttp\\http_websocket.py\", line 729, in send\n",
      "    await self._send_frame(message, WSMsgType.TEXT, compress)\n",
      "  File \"c:\\Users\\DELL\\AppData\\Local\\Programs\\Python\\Python311\\Lib\\site-packages\\aiohttp\\http_websocket.py\", line 682, in _send_frame\n",
      "    self._write(header + message)\n",
      "  File \"c:\\Users\\DELL\\AppData\\Local\\Programs\\Python\\Python311\\Lib\\site-packages\\aiohttp\\http_websocket.py\", line 702, in _write\n",
      "    raise ConnectionResetError(\"Cannot write to closing transport\")\n",
      "ConnectionResetError: Cannot write to closing transport\n",
      "\n",
      "Error handling request\n",
      "Traceback (most recent call last):\n",
      "  File \"c:\\Users\\DELL\\AppData\\Local\\Programs\\Python\\Python311\\Lib\\site-packages\\wslink\\protocol.py\", line 340, in onMessage\n",
      "    await self.sendWrappedMessage(\n",
      "  File \"c:\\Users\\DELL\\AppData\\Local\\Programs\\Python\\Python311\\Lib\\site-packages\\wslink\\protocol.py\", line 484, in sendWrappedMessage\n",
      "    await ws.send_str(encMsg)\n",
      "  File \"c:\\Users\\DELL\\AppData\\Local\\Programs\\Python\\Python311\\Lib\\site-packages\\aiohttp\\web_ws.py\", line 336, in send_str\n",
      "    await self._writer.send(data, binary=False, compress=compress)\n",
      "  File \"c:\\Users\\DELL\\AppData\\Local\\Programs\\Python\\Python311\\Lib\\site-packages\\aiohttp\\http_websocket.py\", line 729, in send\n",
      "    await self._send_frame(message, WSMsgType.TEXT, compress)\n",
      "  File \"c:\\Users\\DELL\\AppData\\Local\\Programs\\Python\\Python311\\Lib\\site-packages\\aiohttp\\http_websocket.py\", line 682, in _send_frame\n",
      "    self._write(header + message)\n",
      "  File \"c:\\Users\\DELL\\AppData\\Local\\Programs\\Python\\Python311\\Lib\\site-packages\\aiohttp\\http_websocket.py\", line 702, in _write\n",
      "    raise ConnectionResetError(\"Cannot write to closing transport\")\n",
      "ConnectionResetError: Cannot write to closing transport\n",
      "\n",
      "During handling of the above exception, another exception occurred:\n",
      "\n",
      "Traceback (most recent call last):\n",
      "  File \"c:\\Users\\DELL\\AppData\\Local\\Programs\\Python\\Python311\\Lib\\site-packages\\wslink\\protocol.py\", line 348, in onMessage\n",
      "    await self.sendWrappedError(\n",
      "  File \"c:\\Users\\DELL\\AppData\\Local\\Programs\\Python\\Python311\\Lib\\site-packages\\wslink\\protocol.py\", line 508, in sendWrappedError\n",
      "    await ws.send_str(encMsg)\n",
      "  File \"c:\\Users\\DELL\\AppData\\Local\\Programs\\Python\\Python311\\Lib\\site-packages\\aiohttp\\web_ws.py\", line 336, in send_str\n",
      "    await self._writer.send(data, binary=False, compress=compress)\n",
      "  File \"c:\\Users\\DELL\\AppData\\Local\\Programs\\Python\\Python311\\Lib\\site-packages\\aiohttp\\http_websocket.py\", line 729, in send\n",
      "    await self._send_frame(message, WSMsgType.TEXT, compress)\n",
      "  File \"c:\\Users\\DELL\\AppData\\Local\\Programs\\Python\\Python311\\Lib\\site-packages\\aiohttp\\http_websocket.py\", line 682, in _send_frame\n",
      "    self._write(header + message)\n",
      "  File \"c:\\Users\\DELL\\AppData\\Local\\Programs\\Python\\Python311\\Lib\\site-packages\\aiohttp\\http_websocket.py\", line 702, in _write\n",
      "    raise ConnectionResetError(\"Cannot write to closing transport\")\n",
      "ConnectionResetError: Cannot write to closing transport\n",
      "\n",
      "During handling of the above exception, another exception occurred:\n",
      "\n",
      "Traceback (most recent call last):\n",
      "  File \"c:\\Users\\DELL\\AppData\\Local\\Programs\\Python\\Python311\\Lib\\site-packages\\aiohttp\\web_protocol.py\", line 452, in _handle_request\n",
      "    resp = await request_handler(request)\n",
      "           ^^^^^^^^^^^^^^^^^^^^^^^^^^^^^^\n",
      "  File \"c:\\Users\\DELL\\AppData\\Local\\Programs\\Python\\Python311\\Lib\\site-packages\\aiohttp\\web_app.py\", line 543, in _handle\n",
      "    resp = await handler(request)\n",
      "           ^^^^^^^^^^^^^^^^^^^^^^\n",
      "  File \"c:\\Users\\DELL\\AppData\\Local\\Programs\\Python\\Python311\\Lib\\site-packages\\wslink\\backends\\aiohttp\\__init__.py\", line 215, in handleWsRequest\n",
      "    await self.onMessage(is_binary(msg), msg, client_id)\n",
      "  File \"c:\\Users\\DELL\\AppData\\Local\\Programs\\Python\\Python311\\Lib\\site-packages\\wslink\\protocol.py\", line 361, in onMessage\n",
      "    await self.sendWrappedError(\n",
      "  File \"c:\\Users\\DELL\\AppData\\Local\\Programs\\Python\\Python311\\Lib\\site-packages\\wslink\\protocol.py\", line 508, in sendWrappedError\n",
      "    await ws.send_str(encMsg)\n",
      "  File \"c:\\Users\\DELL\\AppData\\Local\\Programs\\Python\\Python311\\Lib\\site-packages\\aiohttp\\web_ws.py\", line 336, in send_str\n",
      "    await self._writer.send(data, binary=False, compress=compress)\n",
      "  File \"c:\\Users\\DELL\\AppData\\Local\\Programs\\Python\\Python311\\Lib\\site-packages\\aiohttp\\http_websocket.py\", line 729, in send\n",
      "    await self._send_frame(message, WSMsgType.TEXT, compress)\n",
      "  File \"c:\\Users\\DELL\\AppData\\Local\\Programs\\Python\\Python311\\Lib\\site-packages\\aiohttp\\http_websocket.py\", line 682, in _send_frame\n",
      "    self._write(header + message)\n",
      "  File \"c:\\Users\\DELL\\AppData\\Local\\Programs\\Python\\Python311\\Lib\\site-packages\\aiohttp\\http_websocket.py\", line 702, in _write\n",
      "    raise ConnectionResetError(\"Cannot write to closing transport\")\n",
      "ConnectionResetError: Cannot write to closing transport\n",
      "Task exception was never retrieved\n",
      "future: <Task finished name='Task-525' coro=<WslinkHandler.sendWrappedMessage() done, defined at c:\\Users\\DELL\\AppData\\Local\\Programs\\Python\\Python311\\Lib\\site-packages\\wslink\\protocol.py:423> exception=ConnectionResetError('Cannot write to closing transport')>\n",
      "Traceback (most recent call last):\n",
      "  File \"c:\\Users\\DELL\\AppData\\Local\\Programs\\Python\\Python311\\Lib\\asyncio\\tasks.py\", line 267, in __step\n",
      "    result = coro.send(None)\n",
      "             ^^^^^^^^^^^^^^^\n",
      "  File \"c:\\Users\\DELL\\AppData\\Local\\Programs\\Python\\Python311\\Lib\\site-packages\\wslink\\protocol.py\", line 484, in sendWrappedMessage\n",
      "    await ws.send_str(encMsg)\n",
      "  File \"c:\\Users\\DELL\\AppData\\Local\\Programs\\Python\\Python311\\Lib\\site-packages\\aiohttp\\web_ws.py\", line 336, in send_str\n",
      "    await self._writer.send(data, binary=False, compress=compress)\n",
      "  File \"c:\\Users\\DELL\\AppData\\Local\\Programs\\Python\\Python311\\Lib\\site-packages\\aiohttp\\http_websocket.py\", line 729, in send\n",
      "    await self._send_frame(message, WSMsgType.TEXT, compress)\n",
      "  File \"c:\\Users\\DELL\\AppData\\Local\\Programs\\Python\\Python311\\Lib\\site-packages\\aiohttp\\http_websocket.py\", line 682, in _send_frame\n",
      "    self._write(header + message)\n",
      "  File \"c:\\Users\\DELL\\AppData\\Local\\Programs\\Python\\Python311\\Lib\\site-packages\\aiohttp\\http_websocket.py\", line 702, in _write\n",
      "    raise ConnectionResetError(\"Cannot write to closing transport\")\n",
      "ConnectionResetError: Cannot write to closing transport\n"
     ]
    }
   ],
   "source": [
    "# visualization \n",
    "grid = pv.ImageData()\n",
    "grid.dimensions = np.array(seismic[::-1].T.shape) + 1\n",
    "grid.origin = (1, 1, 1)  # The bottom left corner of the data set\n",
    "grid.spacing = (1, 1, 1/3)  # These are the cell sizes along each axis\n",
    "grid.cell_data[\"values\"] = seismic[::-1].T.flatten(order=\"F\")  # Flatten the array\n",
    "\n",
    "grid.plot(show_edges=False, cmap = 'seismic')"
   ]
  },
  {
   "cell_type": "code",
   "execution_count": 10,
   "metadata": {},
   "outputs": [],
   "source": [
    "## TODO: Refer to https://docs.pyvista.org/version/stable/examples/00-load/terrain-mesh#sphx-glr-examples-00-load-terrain-mesh-py"
   ]
  },
  {
   "cell_type": "markdown",
   "metadata": {},
   "source": [
    "### Refrences:<br>\n",
    "[Agile geoscience and SEG WiKI](https://wiki.seg.org/wiki/Well_tie_calculus)"
   ]
  }
 ],
 "metadata": {
  "kernelspec": {
   "display_name": "Python 3",
   "language": "python",
   "name": "python3"
  },
  "language_info": {
   "codemirror_mode": {
    "name": "ipython",
    "version": 3
   },
   "file_extension": ".py",
   "mimetype": "text/x-python",
   "name": "python",
   "nbconvert_exporter": "python",
   "pygments_lexer": "ipython3",
   "version": "3.11.2"
  }
 },
 "nbformat": 4,
 "nbformat_minor": 4
}
